{
 "cells": [
  {
   "cell_type": "code",
   "execution_count": 6,
   "id": "2c1e75ed-8358-44cd-85b2-168ae1b5fa7c",
   "metadata": {},
   "outputs": [],
   "source": [
    "import spacy\n",
    "import numpy as np\n",
    "import pandas as pd\n",
    "import nltk\n",
    "import random\n",
    "from fastapi import FastAPI\n",
    "from sklearn.feature_extraction.text import TfidfVectorizer\n",
    "from sklearn.linear_model import LogisticRegression\n",
    "from pydantic import BaseModel\n",
    "\n",
    "# Load NLP model\n",
    "nlp = spacy.load(\"en_core_web_sm\")\n",
    "\n",
    "# Sample training data (expandable)\n",
    "training_data = {\n",
    "    \"hi|hello|hey\": \"Hello! How can I assist you today?\",\n",
    "    \"track my order|where is my order\": \"Sure! Can you provide your order ID?\",\n",
    "    \"refund status|money back|return money\": \"Refunds usually take 5-7 business days. Can you share your order ID?\",\n",
    "    \"how to return an item|return policy\": \"You can return items within 30 days. Would you like a return label?\",\n",
    "    \"talk to a human|customer service\": \"Connecting you to a support agent now...\",\n",
    "    \"bye|goodbye|exit\": \"Goodbye! Have a great day!\",\n",
    "}\n",
    "\n",
    "# Prepare training dataset\n",
    "X_train = list(training_data.keys())\n",
    "y_train = list(training_data.values())\n",
    "\n",
    "# Convert text data into numerical vectors using TF-IDF\n",
    "vectorizer = TfidfVectorizer()\n",
    "X_train_vectors = vectorizer.fit_transform(X_train)\n",
    "\n",
    "# Train Logistic Regression model\n",
    "model = LogisticRegression()\n",
    "model.fit(X_train_vectors, y_train)\n",
    "\n",
    "# FastAPI application\n",
    "app = FastAPI()\n",
    "\n",
    "# Define request model\n",
    "class UserQuery(BaseModel):\n",
    "    query: str\n",
    "\n",
    "@app.get(\"/\")\n",
    "def home():\n",
    "    return {\"message\": \"NLP Chatbot with Machine Learning is Running!\"}\n",
    "\n",
    "@app.post(\"/chat/\")\n",
    "def chat(user_query: UserQuery):\n",
    "    query_vector = vectorizer.transform([user_query.query])\n",
    "    response = model.predict(query_vector)[0]\n",
    "    return {\"user\": user_query.query, \"bot\": response}\n",
    "\n",
    "# Run the chatbot API using: uvicorn chatbot:app --reload\n"
   ]
  },
  {
   "cell_type": "code",
   "execution_count": null,
   "id": "ec3c49c7-33d0-4f5a-a084-243d07d0667c",
   "metadata": {},
   "outputs": [],
   "source": [
    "\n",
    "\n"
   ]
  },
  {
   "cell_type": "code",
   "execution_count": null,
   "id": "c9a1fa9c-e846-4fc8-b208-9ba7ec20434e",
   "metadata": {},
   "outputs": [],
   "source": []
  }
 ],
 "metadata": {
  "kernelspec": {
   "display_name": "Python 3 (ipykernel)",
   "language": "python",
   "name": "python3"
  },
  "language_info": {
   "codemirror_mode": {
    "name": "ipython",
    "version": 3
   },
   "file_extension": ".py",
   "mimetype": "text/x-python",
   "name": "python",
   "nbconvert_exporter": "python",
   "pygments_lexer": "ipython3",
   "version": "3.11.7"
  }
 },
 "nbformat": 4,
 "nbformat_minor": 5
}
